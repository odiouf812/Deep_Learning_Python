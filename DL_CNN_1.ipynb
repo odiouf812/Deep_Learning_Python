{
 "cells": [
  {
   "cell_type": "markdown",
   "id": "a4366531-2a1c-4c3a-a3a5-740d9bf57c6c",
   "metadata": {},
   "source": [
    "### 03. Convolutional Neural Networks and Computer Vision with TensorFlow"
   ]
  },
  {
   "cell_type": "markdown",
   "id": "e5a85297-1ec5-4687-b09c-c75098775169",
   "metadata": {},
   "source": [
    "So far we've covered the basics of TensorFlow and built a handful of models to work across different problems.\n",
    "\n",
    "Now we're going to get specific and see how a special kind of neural network, convolutional neural networks (CNNs) can be used for computer vision (detecting patterns in visual data)."
   ]
  },
  {
   "cell_type": "markdown",
   "id": "c9d00f0b-e125-4405-9491-660ae274d43b",
   "metadata": {},
   "source": [
    "For example, you might want to:\n",
    "\n",
    "    Classify whether a picture of food contains pizza 🍕 or steak 🥩 (we're going to do this)\n",
    "    Detect whether or not an object appears in an image (e.g. did a specific car pass through a security camera?)\n",
    "\n",
    "In this notebook, we're going to follow the TensorFlow modelling workflow we've been following so far whilst learning about how to build and use CNNs."
   ]
  },
  {
   "cell_type": "markdown",
   "id": "377c19f2-2a69-4743-b2d1-52dffd5fea91",
   "metadata": {},
   "source": [
    "### Get the data"
   ]
  },
  {
   "cell_type": "markdown",
   "id": "bd7b50ce-afbf-4c76-b384-229e0bc10873",
   "metadata": {},
   "source": [
    "Because convolutional neural networks work so well with images, to learn more about them, we're going to start with a dataset of images.\n",
    "\n",
    "The images we're going to work with are from the Food-101 dataset, a collection of 101 different categories of 101,000 (1000 images per category) real-world images of food dishes.\n",
    "\n",
    "To begin, we're only going to use two of the categories, pizza 🍕 and steak 🥩 and build a binary classifier."
   ]
  },
  {
   "cell_type": "code",
   "execution_count": 8,
   "id": "d69f9192-912e-4eb2-8274-0e4cd0fa8c87",
   "metadata": {},
   "outputs": [],
   "source": [
    "import requests\n",
    "import zipfile\n",
    "from pathlib import Path\n",
    "import os"
   ]
  },
  {
   "cell_type": "code",
   "execution_count": 12,
   "id": "be5bb068-d03d-4c8a-bda0-168c8d0a150f",
   "metadata": {},
   "outputs": [],
   "source": [
    "# setup path to a data folder\n",
    "data_path = Path(\"C:/Users/Lenovo/Desktop/Deep_Learning/pizza_steak.zip\")\n",
    "image_path = data_path / \"pizza_steak\""
   ]
  },
  {
   "cell_type": "markdown",
   "id": "5edfa935-3f9f-4fc9-a058-677b53d6ee1f",
   "metadata": {},
   "source": [
    "### Inspect the data (become one with it)"
   ]
  },
  {
   "cell_type": "markdown",
   "id": "f7935f0d-84b9-444b-86ec-46bf18c58cfc",
   "metadata": {},
   "source": [
    "A very crucial step at the beginning of any machine learning project is becoming one with the data. This usually means plenty of visualizing and folder scanning to understand the data you're working with.\n",
    "\n",
    "Wtih this being said, let's inspect the data we just downloaded.\n",
    "\n",
    "The file structure has been formatted to be in a typical format you might use for working with images.\n",
    "\n",
    "More specifically:\n",
    "\n",
    "    A train directory which contains all of the images in the training dataset with subdirectories each named after a certain class containing images of that class.\n",
    "    A test directory with the same structure as the train directory.\n"
   ]
  },
  {
   "cell_type": "code",
   "execution_count": 34,
   "id": "f80f1374-048e-4bf9-9004-02fcf70b3084",
   "metadata": {},
   "outputs": [
    {
     "name": "stdout",
     "output_type": "stream",
     "text": [
      "test\n",
      "train\n"
     ]
    }
   ],
   "source": [
    "import os, sys\n",
    "# Open a file\n",
    "dirs = os.listdir(\"C:/Users/Lenovo/Desktop/Deep_Learning/pizza_steak/\")\n",
    "# Print all the files and directories\n",
    "for file in dirs:\n",
    "   print(file)"
   ]
  },
  {
   "cell_type": "code",
   "execution_count": 36,
   "id": "4655e3de-4641-43a6-996f-0c8d2b4484cf",
   "metadata": {},
   "outputs": [
    {
     "name": "stdout",
     "output_type": "stream",
     "text": [
      "pizza\n",
      "steak\n"
     ]
    }
   ],
   "source": [
    "dirs = os.listdir(\"C:/Users/Lenovo/Desktop/Deep_Learning/pizza_steak/train/\")\n",
    "# Print all the files and directories\n",
    "for file in dirs:\n",
    "   print(file)"
   ]
  },
  {
   "cell_type": "code",
   "execution_count": 38,
   "id": "fd5ea5f0-bcf4-4117-8082-b60bcd8a448c",
   "metadata": {},
   "outputs": [
    {
     "name": "stdout",
     "output_type": "stream",
     "text": [
      "1001116.jpg\n",
      "1008104.jpg\n",
      "1008144.jpg\n",
      "1008844.jpg\n",
      "1008941.jpg\n",
      "1011404.jpg\n",
      "102037.jpg\n",
      "1026922.jpg\n",
      "1029698.jpg\n",
      "1032754.jpg\n",
      "1033251.jpg\n",
      "1035854.jpg\n",
      "103708.jpg\n",
      "1038357.jpg\n",
      "1040878.jpg\n",
      "1044524.jpg\n",
      "1044789.jpg\n",
      "1047561.jpg\n",
      "1048649.jpg\n",
      "1054420.jpg\n",
      "1055065.jpg\n",
      "105910.jpg\n",
      "1060407.jpg\n",
      "106507.jpg\n",
      "1065078.jpg\n",
      "1067986.jpg\n",
      "1069629.jpg\n",
      "1075568.jpg\n",
      "1076699.jpg\n",
      "1083380.jpg\n",
      "1084888.jpg\n",
      "1088332.jpg\n",
      "1089334.jpg\n",
      "1097980.jpg\n",
      "1098197.jpg\n",
      "1105700.jpg\n",
      "1106738.jpg\n",
      "1107714.jpg\n",
      "111051.jpg\n",
      "1110966.jpg\n",
      "1119571.jpg\n",
      "1123386.jpg\n",
      "11297.jpg\n",
      "1137400.jpg\n",
      "1138936.jpg\n",
      "1143057.jpg\n",
      "1152100.jpg\n",
      "1157438.jpg\n",
      "1159797.jpg\n",
      "1165451.jpg\n",
      "1173913.jpg\n",
      "1179703.jpg\n",
      "1180001.jpg\n",
      "1180273.jpg\n",
      "1183278.jpg\n",
      "1183595.jpg\n",
      "1202689.jpg\n",
      "1202925.jpg\n",
      "1205154.jpg\n",
      "1207213.jpg\n",
      "1209973.jpg\n",
      "121834.jpg\n",
      "121960.jpg\n",
      "1220156.jpg\n",
      "1223284.jpg\n",
      "1226346.jpg\n",
      "1228171.jpg\n",
      "12301.jpg\n",
      "1234172.jpg\n",
      "1243215.jpg\n",
      "1245628.jpg\n",
      "1247645.jpg\n",
      "124815.jpg\n",
      "1248346.jpg\n",
      "1248478.jpg\n",
      "1260554.jpg\n",
      "1265335.jpg\n",
      "1267359.jpg\n",
      "1269960.jpg\n",
      "1270986.jpg\n",
      "12718.jpg\n",
      "1275885.jpg\n",
      "1280320.jpg\n",
      "1284978.jpg\n",
      "1285298.jpg\n",
      "1287004.jpg\n",
      "1289139.jpg\n",
      "129536.jpg\n",
      "129666.jpg\n",
      "1312761.jpg\n",
      "131561.jpg\n",
      "1315645.jpg\n",
      "132484.jpg\n",
      "132554.jpg\n",
      "1325918.jpg\n",
      "1326065.jpg\n",
      "1327402.jpg\n",
      "1336882.jpg\n",
      "1342321.jpg\n",
      "134462.jpg\n",
      "1344966.jpg\n",
      "1351146.jpg\n",
      "1351631.jpg\n",
      "1370319.jpg\n",
      "1380247.jpg\n",
      "1383291.jpg\n",
      "1384464.jpg\n",
      "138855.jpg\n",
      "138961.jpg\n",
      "1390308.jpg\n",
      "1398213.jpg\n",
      "13983.jpg\n",
      "139952.jpg\n",
      "1399531.jpg\n",
      "139987.jpg\n",
      "140016.jpg\n",
      "140031.jpg\n",
      "1403878.jpg\n",
      "1407753.jpg\n",
      "1412011.jpg\n",
      "1412034.jpg\n",
      "1413289.jpg\n",
      "141507.jpg\n",
      "1423515.jpg\n",
      "1425089.jpg\n",
      "1426781.jpg\n",
      "143453.jpg\n",
      "1445608.jpg\n",
      "144631.jpg\n",
      "1454995.jpg\n",
      "1459760.jpg\n",
      "1468795.jpg\n",
      "1475479.jpg\n",
      "147785.jpg\n",
      "1484836.jpg\n",
      "148765.jpg\n",
      "1499661.jpg\n",
      "1503858.jpg\n",
      "1504421.jpg\n",
      "1504719.jpg\n",
      "1506213.jpg\n",
      "1507019.jpg\n",
      "1507039.jpg\n",
      "1512514.jpg\n",
      "1512557.jpg\n",
      "1524599.jpg\n",
      "1524655.jpg\n",
      "153195.jpg\n",
      "1535273.jpg\n",
      "1544197.jpg\n",
      "1552253.jpg\n",
      "1553353.jpg\n",
      "1555015.jpg\n",
      "1571074.jpg\n",
      "1572608.jpg\n",
      "1573562.jpg\n",
      "1576248.jpg\n",
      "1577871.jpg\n",
      "1584379.jpg\n",
      "1593665.jpg\n",
      "1593835.jpg\n",
      "1594097.jpg\n",
      "1600705.jpg\n",
      "1608000.jpg\n",
      "1617418.jpg\n",
      "1618659.jpg\n",
      "1620560.jpg\n",
      "1620761.jpg\n",
      "1625147.jpg\n",
      "163039.jpg\n",
      "1633289.jpg\n",
      "1635386.jpg\n",
      "1636299.jpg\n",
      "1636919.jpg\n",
      "1638227.jpg\n",
      "1646974.jpg\n",
      "1649108.jpg\n",
      "1649276.jpg\n",
      "1652943.jpg\n",
      "1654444.jpg\n",
      "1655630.jpg\n",
      "1660415.jpg\n",
      "1663749.jpg\n",
      "1665654.jpg\n",
      "166823.jpg\n",
      "1670471.jpg\n",
      "1671531.jpg\n",
      "1678284.jpg\n",
      "1681043.jpg\n",
      "1686908.jpg\n",
      "1686938.jpg\n",
      "1687143.jpg\n",
      "1687681.jpg\n",
      "168879.jpg\n",
      "1688838.jpg\n",
      "1691503.jpg\n",
      "169318.jpg\n",
      "1694874.jpg\n",
      "169720.jpg\n",
      "1705747.jpg\n",
      "1705773.jpg\n",
      "1708197.jpg\n",
      "1717790.jpg\n",
      "1742542.jpg\n",
      "1743389.jpg\n",
      "175626.jpg\n",
      "1757288.jpg\n",
      "1761451.jpg\n",
      "1763205.jpg\n",
      "1765727.jpg\n",
      "1774438.jpg\n",
      "177513.jpg\n",
      "1778167.jpg\n",
      "1786840.jpg\n",
      "179165.jpg\n",
      "1795316.jpg\n",
      "1806491.jpg\n",
      "1810844.jpg\n",
      "1818014.jpg\n",
      "1828050.jpg\n",
      "1836888.jpg\n",
      "1839077.jpg\n",
      "1843754.jpg\n",
      "1870865.jpg\n",
      "1871498.jpg\n",
      "1877103.jpg\n",
      "1878005.jpg\n",
      "1881674.jpg\n",
      "1888911.jpg\n",
      "1890444.jpg\n",
      "1895182.jpg\n",
      "1895479.jpg\n",
      "1897129.jpg\n",
      "1898723.jpg\n",
      "1899562.jpg\n",
      "1899785.jpg\n",
      "1900585.jpg\n",
      "1906287.jpg\n",
      "1907713.jpg\n",
      "1912976.jpg\n",
      "1914969.jpg\n",
      "1915343.jpg\n",
      "1916846.jpg\n",
      "1925494.jpg\n",
      "1934355.jpg\n",
      "1944600.jpg\n",
      "194643.jpg\n",
      "1947572.jpg\n",
      "194784.jpg\n",
      "1949644.jpg\n",
      "1950499.jpg\n",
      "1951130.jpg\n",
      "195160.jpg\n",
      "1958364.jpg\n",
      "1962101.jpg\n",
      "1964051.jpg\n",
      "1968947.jpg\n",
      "1973447.jpg\n",
      "1980167.jpg\n",
      "1980749.jpg\n",
      "1981348.jpg\n",
      "1983369.jpg\n",
      "1984976.jpg\n",
      "1986128.jpg\n",
      "1987634.jpg\n",
      "1988629.jpg\n",
      "199019.jpg\n",
      "1991586.jpg\n",
      "1998483.jpg\n",
      "1999711.jpg\n",
      "2003290.jpg\n",
      "2005870.jpg\n",
      "2010437.jpg\n",
      "2014717.jpg\n",
      "2019408.jpg\n",
      "2019441.jpg\n",
      "2019583.jpg\n",
      "2021516.jpg\n",
      "2026009.jpg\n",
      "2032236.jpg\n",
      "2035248.jpg\n",
      "203831.jpg\n",
      "204151.jpg\n",
      "2044732.jpg\n",
      "2077999.jpg\n",
      "2078141.jpg\n",
      "2078208.jpg\n",
      "2082495.jpg\n",
      "2091857.jpg\n",
      "2097315.jpg\n",
      "2098014.jpg\n",
      "2101820.jpg\n",
      "2104569.jpg\n",
      "2110257.jpg\n",
      "2111981.jpg\n",
      "2112757.jpg\n",
      "2121603.jpg\n",
      "2124579.jpg\n",
      "2126352.jpg\n",
      "2126709.jpg\n",
      "212995.jpg\n",
      "2135635.jpg\n",
      "2137341.jpg\n",
      "2142812.jpg\n",
      "214728.jpg\n",
      "2148129.jpg\n",
      "2154394.jpg\n",
      "2155475.jpg\n",
      "2155735.jpg\n",
      "2157510.jpg\n",
      "2161241.jpg\n",
      "2161321.jpg\n",
      "2164255.jpg\n",
      "2165223.jpg\n",
      "216720.jpg\n",
      "2172850.jpg\n",
      "218142.jpg\n",
      "218711.jpg\n",
      "2187466.jpg\n",
      "2188452.jpg\n",
      "2190018.jpg\n",
      "2195935.jpg\n",
      "220190.jpg\n",
      "2203687.jpg\n",
      "220910.jpg\n",
      "221048.jpg\n",
      "2215531.jpg\n",
      "2217956.jpg\n",
      "2218680.jpg\n",
      "2224099.jpg\n",
      "2224828.jpg\n",
      "2228322.jpg\n",
      "2231356.jpg\n",
      "2235981.jpg\n",
      "2236338.jpg\n",
      "2236914.jpg\n",
      "2241448.jpg\n",
      "2242047.jpg\n",
      "2247711.jpg\n",
      "22489.jpg\n",
      "2250611.jpg\n",
      "2253670.jpg\n",
      "2255361.jpg\n",
      "226472.jpg\n",
      "2265512.jpg\n",
      "2274117.jpg\n",
      "2276783.jpg\n",
      "2279642.jpg\n",
      "2280345.jpg\n",
      "2285269.jpg\n",
      "2285942.jpg\n",
      "228778.jpg\n",
      "2291093.jpg\n",
      "2292986.jpg\n",
      "2293453.jpg\n",
      "2296393.jpg\n",
      "2301105.jpg\n",
      "2304021.jpg\n",
      "2312987.jpg\n",
      "23199.jpg\n",
      "2320458.jpg\n",
      "2321465.jpg\n",
      "2323860.jpg\n",
      "232976.jpg\n",
      "2330965.jpg\n",
      "233143.jpg\n",
      "2331467.jpg\n",
      "2343304.jpg\n",
      "2361973.jpg\n",
      "2365046.jpg\n",
      "2382016.jpg\n",
      "238843.jpg\n",
      "2392727.jpg\n",
      "2397868.jpg\n",
      "2398925.jpg\n",
      "2406842.jpg\n",
      "2410138.jpg\n",
      "2412237.jpg\n",
      "2412970.jpg\n",
      "2421445.jpg\n",
      "2426686.jpg\n",
      "2428085.jpg\n",
      "242813.jpg\n",
      "242976.jpg\n",
      "2432061.jpg\n",
      "2439992.jpg\n",
      "2441328.jpg\n",
      "2443498.jpg\n",
      "244505.jpg\n",
      "2448844.jpg\n",
      "2451169.jpg\n",
      "2456207.jpg\n",
      "2462190.jpg\n",
      "2467990.jpg\n",
      "2468499.jpg\n",
      "2470671.jpg\n",
      "2471646.jpg\n",
      "2473559.jpg\n",
      "2476468.jpg\n",
      "2478048.jpg\n",
      "2478221.jpg\n",
      "2481333.jpg\n",
      "248199.jpg\n",
      "248252.jpg\n",
      "2486277.jpg\n",
      "2487039.jpg\n",
      "2490163.jpg\n",
      "2491110.jpg\n",
      "2492287.jpg\n",
      "2493954.jpg\n",
      "2501636.jpg\n",
      "2501961.jpg\n",
      "2502234.jpg\n",
      "2508157.jpg\n",
      "2508316.jpg\n",
      "2508636.jpg\n",
      "2511911.jpg\n",
      "2514438.jpg\n",
      "2516510.jpg\n",
      "2517724.jpg\n",
      "2519291.jpg\n",
      "2521769.jpg\n",
      "2529205.jpg\n",
      "253127.jpg\n",
      "2534774.jpg\n",
      "2542065.jpg\n",
      "2543207.jpg\n",
      "254812.jpg\n",
      "2549661.jpg\n",
      "2556273.jpg\n",
      "2557340.jpg\n",
      "2560539.jpg\n",
      "2569760.jpg\n",
      "2570329.jpg\n",
      "2572488.jpg\n",
      "2572958.jpg\n",
      "2574896.jpg\n",
      "2576168.jpg\n",
      "2577373.jpg\n",
      "2577377.jpg\n",
      "2581276.jpg\n",
      "2582289.jpg\n",
      "2583389.jpg\n",
      "2584745.jpg\n",
      "2587918.jpg\n",
      "2587921.jpg\n",
      "259449.jpg\n",
      "2602611.jpg\n",
      "2605343.jpg\n",
      "2605853.jpg\n",
      "2606727.jpg\n",
      "2615100.jpg\n",
      "2619955.jpg\n",
      "262133.jpg\n",
      "2621534.jpg\n",
      "2622336.jpg\n",
      "2631321.jpg\n",
      "2639094.jpg\n",
      "2640502.jpg\n",
      "2664219.jpg\n",
      "2666066.jpg\n",
      "2667244.jpg\n",
      "2667255.jpg\n",
      "269396.jpg\n",
      "271592.jpg\n",
      "271675.jpg\n",
      "271779.jpg\n",
      "274945.jpg\n",
      "276803.jpg\n",
      "277963.jpg\n",
      "27963.jpg\n",
      "282013.jpg\n",
      "287000.jpg\n",
      "293433.jpg\n",
      "29417.jpg\n",
      "296426.jpg\n",
      "2965.jpg\n",
      "299535.jpg\n",
      "300157.jpg\n",
      "300869.jpg\n",
      "302591.jpg\n",
      "307677.jpg\n",
      "309892.jpg\n",
      "312479.jpg\n",
      "317861.jpg\n",
      "32004.jpg\n",
      "320570.jpg\n",
      "321526.jpg\n",
      "324942.jpg\n",
      "32666.jpg\n",
      "326809.jpg\n",
      "327415.jpg\n",
      "328965.jpg\n",
      "329302.jpg\n",
      "331644.jpg\n",
      "332231.jpg\n",
      "333985.jpg\n",
      "335474.jpg\n",
      "337272.jpg\n",
      "338838.jpg\n",
      "340814.jpg\n",
      "341377.jpg\n",
      "343480.jpg\n",
      "344397.jpg\n",
      "346091.jpg\n",
      "34632.jpg\n",
      "349946.jpg\n",
      "350358.jpg\n",
      "352051.jpg\n",
      "358178.jpg\n",
      "368644.jpg\n",
      "369017.jpg\n",
      "370643.jpg\n",
      "372275.jpg\n",
      "373847.jpg\n",
      "375401.jpg\n",
      "376417.jpg\n",
      "376625.jpg\n",
      "380739.jpg\n",
      "382829.jpg\n",
      "38349.jpg\n",
      "384215.jpg\n",
      "387697.jpg\n",
      "393658.jpg\n",
      "394049.jpg\n",
      "394590.jpg\n",
      "395034.jpg\n",
      "395662.jpg\n",
      "395960.jpg\n",
      "397910.jpg\n",
      "398345.jpg\n",
      "398565.jpg\n",
      "398812.jpg\n",
      "401701.jpg\n",
      "401979.jpg\n",
      "40231.jpg\n",
      "403431.jpg\n",
      "40449.jpg\n",
      "413710.jpg\n",
      "413789.jpg\n",
      "415551.jpg\n",
      "416067.jpg\n",
      "418251.jpg\n",
      "419516.jpg\n",
      "419962.jpg\n",
      "420409.jpg\n",
      "422261.jpg\n",
      "424288.jpg\n",
      "430118.jpg\n",
      "430904.jpg\n",
      "441659.jpg\n",
      "44449.jpg\n",
      "447914.jpg\n",
      "44810.jpg\n",
      "448519.jpg\n",
      "452989.jpg\n",
      "457350.jpg\n",
      "464388.jpg\n",
      "465454.jpg\n",
      "467986.jpg\n",
      "474493.jpg\n",
      "476421.jpg\n",
      "482858.jpg\n",
      "489347.jpg\n",
      "489532.jpg\n",
      "495892.jpg\n",
      "513415.jpg\n",
      "513754.jpg\n",
      "514014.jpg\n",
      "517902.jpg\n",
      "518527.jpg\n",
      "522543.jpg\n",
      "527199.jpg\n",
      "52934.jpg\n",
      "53217.jpg\n",
      "532970.jpg\n",
      "537575.jpg\n",
      "540882.jpg\n",
      "543556.jpg\n",
      "54461.jpg\n",
      "54540.jpg\n",
      "545561.jpg\n",
      "556507.jpg\n",
      "56449.jpg\n",
      "565112.jpg\n",
      "568383.jpg\n",
      "568995.jpg\n",
      "573054.jpg\n",
      "576236.jpg\n",
      "5764.jpg\n",
      "579691.jpg\n",
      "593400.jpg\n",
      "59445.jpg\n",
      "596494.jpg\n",
      "598381.jpg\n",
      "604977.jpg\n",
      "608085.jpg\n",
      "614236.jpg\n",
      "614981.jpg\n",
      "61656.jpg\n",
      "618021.jpg\n",
      "61822.jpg\n",
      "618348.jpg\n",
      "625434.jpg\n",
      "625687.jpg\n",
      "626170.jpg\n",
      "626902.jpg\n",
      "63480.jpg\n",
      "645087.jpg\n",
      "647215.jpg\n",
      "648055.jpg\n",
      "65128.jpg\n",
      "652004.jpg\n",
      "656817.jpg\n",
      "662526.jpg\n",
      "663285.jpg\n",
      "665900.jpg\n",
      "666569.jpg\n",
      "667309.jpg\n",
      "668944.jpg\n",
      "670201.jpg\n",
      "674188.jpg\n",
      "676432.jpg\n",
      "678708.jpg\n",
      "682201.jpg\n",
      "68684.jpg\n",
      "698251.jpg\n",
      "702165.jpg\n",
      "704161.jpg\n",
      "709273.jpg\n",
      "709947.jpg\n",
      "712149.jpg\n",
      "714866.jpg\n",
      "714991.jpg\n",
      "715169.jpg\n",
      "717350.jpg\n",
      "721383.jpg\n",
      "723745.jpg\n",
      "724290.jpg\n",
      "724445.jpg\n",
      "72716.jpg\n",
      "728260.jpg\n",
      "729262.jpg\n",
      "739735.jpg\n",
      "740385.jpg\n",
      "741491.jpg\n",
      "741883.jpg\n",
      "755968.jpg\n",
      "759025.jpg\n",
      "759873.jpg\n",
      "762788.jpg\n",
      "764429.jpg\n",
      "765000.jpg\n",
      "765799.jpg\n",
      "768276.jpg\n",
      "771336.jpg\n",
      "771878.jpg\n",
      "774142.jpg\n",
      "77677.jpg\n",
      "786995.jpg\n",
      "788315.jpg\n",
      "790058.jpg\n",
      "790432.jpg\n",
      "790841.jpg\n",
      "792093.jpg\n",
      "796922.jpg\n",
      "799874.jpg\n",
      "800546.jpg\n",
      "803243.jpg\n",
      "807128.jpg\n",
      "80750.jpg\n",
      "809024.jpg\n",
      "812349.jpg\n",
      "816577.jpg\n",
      "816729.jpg\n",
      "819547.jpg\n",
      "823104.jpg\n",
      "82578.jpg\n",
      "82772.jpg\n",
      "829229.jpg\n",
      "833711.jpg\n",
      "83538.jpg\n",
      "835833.jpg\n",
      "837119.jpg\n",
      "839461.jpg\n",
      "849291.jpg\n",
      "852436.jpg\n",
      "853441.jpg\n",
      "857888.jpg\n",
      "861771.jpg\n",
      "863509.jpg\n",
      "866834.jpg\n",
      "868789.jpg\n",
      "869763.jpg\n",
      "872094.jpg\n",
      "874288.jpg\n",
      "875262.jpg\n",
      "875856.jpg\n",
      "877881.jpg\n",
      "878377.jpg\n",
      "884986.jpg\n",
      "886505.jpg\n",
      "8917.jpg\n",
      "89197.jpg\n",
      "893644.jpg\n",
      "896448.jpg\n",
      "897300.jpg\n",
      "898119.jpg\n",
      "898303.jpg\n",
      "898843.jpg\n",
      "89892.jpg\n",
      "899818.jpg\n",
      "899959.jpg\n",
      "904938.jpg\n",
      "910419.jpg\n",
      "917774.jpg\n",
      "918506.jpg\n",
      "920219.jpg\n",
      "920595.jpg\n",
      "926046.jpg\n",
      "928663.jpg\n",
      "928670.jpg\n",
      "929067.jpg\n",
      "930553.jpg\n",
      "937915.jpg\n",
      "938821.jpg\n",
      "93961.jpg\n",
      "94215.jpg\n",
      "947246.jpg\n",
      "951953.jpg\n",
      "959901.jpg\n",
      "962785.jpg\n",
      "96357.jpg\n",
      "966644.jpg\n",
      "967694.jpg\n",
      "969461.jpg\n",
      "970073.jpg\n",
      "971934.jpg\n",
      "972000.jpg\n",
      "976107.jpg\n",
      "976382.jpg\n",
      "979933.jpg\n",
      "979955.jpg\n",
      "979998.jpg\n",
      "985164.jpg\n",
      "98607.jpg\n",
      "98617.jpg\n",
      "99604.jpg\n",
      "998005.jpg\n",
      "998719.jpg\n"
     ]
    }
   ],
   "source": [
    "dirs = os.listdir(\"C:/Users/Lenovo/Desktop/Deep_Learning/pizza_steak/train/pizza\")\n",
    "# Print all the files and directories\n",
    "for file in dirs:\n",
    "   print(file)"
   ]
  },
  {
   "cell_type": "code",
   "execution_count": 40,
   "id": "558686a6-902a-448e-959c-f6bf32e9c888",
   "metadata": {},
   "outputs": [
    {
     "name": "stdout",
     "output_type": "stream",
     "text": [
      "['pizza' 'steak']\n"
     ]
    }
   ],
   "source": [
    "# Get the class names (programmatically, this is much more helpful with a longer list of classes)\n",
    "import pathlib\n",
    "import numpy as np\n",
    "data_dir = pathlib.Path(\"pizza_steak/train/\") # turn our training path into a Python path\n",
    "class_names = np.array(sorted([item.name for item in data_dir.glob('*')])) # created a list of class_names from the subdirectories\n",
    "print(class_names)"
   ]
  },
  {
   "cell_type": "markdown",
   "id": "c60f2104-0e0c-4f8d-8ed7-8861de7e004a",
   "metadata": {},
   "source": [
    "Okay, so we've got a collection of 750 training images and 250 testing images of pizza and steak.\n",
    "\n",
    "Let's look at some."
   ]
  },
  {
   "cell_type": "code",
   "execution_count": 43,
   "id": "711ba673-48d2-4548-b76e-a71856b0aab0",
   "metadata": {},
   "outputs": [],
   "source": [
    "# View an image\n",
    "import matplotlib.pyplot as plt\n",
    "import matplotlib.image as mpimg\n",
    "import random\n",
    "\n",
    "def view_random_image(target_dir, target_class):\n",
    "  # Setup target directory (we'll view images from here)\n",
    "  target_folder = target_dir+target_class\n",
    "\n",
    "  # Get a random image path\n",
    "  random_image = random.sample(os.listdir(target_folder), 1)\n",
    "\n",
    "  # Read in the image and plot it using matplotlib\n",
    "  img = mpimg.imread(target_folder + \"/\" + random_image[0])\n",
    "  plt.imshow(img)\n",
    "  plt.title(target_class)\n",
    "  plt.axis(\"off\");\n",
    "\n",
    "  print(f\"Image shape: {img.shape}\") # show the shape of the image\n",
    "\n",
    "  return img"
   ]
  },
  {
   "cell_type": "code",
   "execution_count": 45,
   "id": "4897c22b-4809-49a2-9392-77aee8d244e6",
   "metadata": {},
   "outputs": [
    {
     "name": "stdout",
     "output_type": "stream",
     "text": [
      "Image shape: (308, 512, 3)\n"
     ]
    },
    {
     "data": {
      "image/png": "[encoded data removed]",
      "text/plain": [
       "<Figure size 640x480 with 1 Axes>"
      ]
     },
     "metadata": {},
     "output_type": "display_data"
    }
   ],
   "source": [
    "# View a random image from the training dataset\n",
    "img = view_random_image(target_dir=\"pizza_steak/train/\",\n",
    "                        target_class=\"steak\")"
   ]
  },
  {
   "cell_type": "code",
   "execution_count": 47,
   "id": "dc2ec683-5038-49cf-8f67-adf02043c0eb",
   "metadata": {},
   "outputs": [
    {
     "data": {
      "text/plain": [
       "array([[[ 84,  69,  62],\n",
       "        [104,  89,  82],\n",
       "        [ 96,  77,  71],\n",
       "        ...,\n",
       "        [ 44,   5,   6],\n",
       "        [ 42,   6,   6],\n",
       "        [ 40,   6,   5]],\n",
       "\n",
       "       [[ 45,  32,  24],\n",
       "        [ 69,  54,  47],\n",
       "        [ 78,  60,  56],\n",
       "        ...,\n",
       "        [ 44,   4,   5],\n",
       "        [ 44,   5,   6],\n",
       "        [ 41,   5,   5]],\n",
       "\n",
       "       [[ 17,   6,   0],\n",
       "        [ 24,  11,   5],\n",
       "        [ 35,  20,  17],\n",
       "        ...,\n",
       "        [ 44,   2,   3],\n",
       "        [ 44,   4,   4],\n",
       "        [ 42,   4,   3]],\n",
       "\n",
       "       ...,\n",
       "\n",
       "       [[ 93,  56,  37],\n",
       "        [ 93,  58,  38],\n",
       "        [ 92,  59,  40],\n",
       "        ...,\n",
       "        [ 96,  67,  59],\n",
       "        [ 94,  66,  55],\n",
       "        [ 93,  63,  53]],\n",
       "\n",
       "       [[ 93,  56,  37],\n",
       "        [ 93,  58,  38],\n",
       "        [ 92,  59,  40],\n",
       "        ...,\n",
       "        [ 92,  63,  55],\n",
       "        [ 94,  66,  55],\n",
       "        [ 95,  65,  55]],\n",
       "\n",
       "       [[ 93,  56,  37],\n",
       "        [ 93,  58,  38],\n",
       "        [ 92,  59,  40],\n",
       "        ...,\n",
       "        [ 79,  50,  42],\n",
       "        [ 90,  62,  51],\n",
       "        [ 96,  66,  56]]], dtype=uint8)"
      ]
     },
     "execution_count": 47,
     "metadata": {},
     "output_type": "execute_result"
    }
   ],
   "source": [
    "# View the img (actually just a big array/tensor)\n",
    "img"
   ]
  },
  {
   "cell_type": "code",
   "execution_count": 49,
   "id": "a230b493-64d6-4772-a250-66f808a960ed",
   "metadata": {},
   "outputs": [
    {
     "data": {
      "text/plain": [
       "(308, 512, 3)"
      ]
     },
     "execution_count": 49,
     "metadata": {},
     "output_type": "execute_result"
    }
   ],
   "source": [
    "# View the image shape\n",
    "img.shape # returns (width, height, colour channels)"
   ]
  },
  {
   "cell_type": "code",
   "execution_count": 51,
   "id": "54695dbf-35c9-44c5-bd0c-9088d8e1a904",
   "metadata": {},
   "outputs": [
    {
     "data": {
      "text/plain": [
       "array([[[0.32941176, 0.27058824, 0.24313725],\n",
       "        [0.40784314, 0.34901961, 0.32156863],\n",
       "        [0.37647059, 0.30196078, 0.27843137],\n",
       "        ...,\n",
       "        [0.17254902, 0.01960784, 0.02352941],\n",
       "        [0.16470588, 0.02352941, 0.02352941],\n",
       "        [0.15686275, 0.02352941, 0.01960784]],\n",
       "\n",
       "       [[0.17647059, 0.1254902 , 0.09411765],\n",
       "        [0.27058824, 0.21176471, 0.18431373],\n",
       "        [0.30588235, 0.23529412, 0.21960784],\n",
       "        ...,\n",
       "        [0.17254902, 0.01568627, 0.01960784],\n",
       "        [0.17254902, 0.01960784, 0.02352941],\n",
       "        [0.16078431, 0.01960784, 0.01960784]],\n",
       "\n",
       "       [[0.06666667, 0.02352941, 0.        ],\n",
       "        [0.09411765, 0.04313725, 0.01960784],\n",
       "        [0.1372549 , 0.07843137, 0.06666667],\n",
       "        ...,\n",
       "        [0.17254902, 0.00784314, 0.01176471],\n",
       "        [0.17254902, 0.01568627, 0.01568627],\n",
       "        [0.16470588, 0.01568627, 0.01176471]],\n",
       "\n",
       "       ...,\n",
       "\n",
       "       [[0.36470588, 0.21960784, 0.14509804],\n",
       "        [0.36470588, 0.22745098, 0.14901961],\n",
       "        [0.36078431, 0.23137255, 0.15686275],\n",
       "        ...,\n",
       "        [0.37647059, 0.2627451 , 0.23137255],\n",
       "        [0.36862745, 0.25882353, 0.21568627],\n",
       "        [0.36470588, 0.24705882, 0.20784314]],\n",
       "\n",
       "       [[0.36470588, 0.21960784, 0.14509804],\n",
       "        [0.36470588, 0.22745098, 0.14901961],\n",
       "        [0.36078431, 0.23137255, 0.15686275],\n",
       "        ...,\n",
       "        [0.36078431, 0.24705882, 0.21568627],\n",
       "        [0.36862745, 0.25882353, 0.21568627],\n",
       "        [0.37254902, 0.25490196, 0.21568627]],\n",
       "\n",
       "       [[0.36470588, 0.21960784, 0.14509804],\n",
       "        [0.36470588, 0.22745098, 0.14901961],\n",
       "        [0.36078431, 0.23137255, 0.15686275],\n",
       "        ...,\n",
       "        [0.30980392, 0.19607843, 0.16470588],\n",
       "        [0.35294118, 0.24313725, 0.2       ],\n",
       "        [0.37647059, 0.25882353, 0.21960784]]])"
      ]
     },
     "execution_count": 51,
     "metadata": {},
     "output_type": "execute_result"
    }
   ],
   "source": [
    "# Get all the pixel values between 0 & 1\n",
    "img/255. "
   ]
  },
  {
   "cell_type": "markdown",
   "id": "4b861a35-b0ec-4627-a675-490751d060ea",
   "metadata": {},
   "source": [
    "### A (typical) architecture of a convolutional neural network"
   ]
  },
  {
   "cell_type": "markdown",
   "id": "30a2f277-4226-42bb-b0df-32a832c6de47",
   "metadata": {},
   "source": [
    "Convolutional neural networks are no different to other kinds of deep learning neural networks in the fact they can be created in many different ways. What you see below are some components you'd expect to find in a traditional CNN.\n",
    "\n",
    "Components of a convolutional neural network:"
   ]
  },
  {
   "cell_type": "markdown",
   "id": "cd197475-9fa5-408e-8aa6-0708c23430cd",
   "metadata": {},
   "source": [
    "## An end-to-end example"
   ]
  },
  {
   "cell_type": "markdown",
   "id": "580f0551-f408-4ade-bb91-2c37b8144f8d",
   "metadata": {},
   "source": [
    "We've checked out our data and found there's 750 training images, as well as 250 test images per class and they're all of various different shapes.\n",
    "\n",
    "It's time to jump straight in the deep end.\n",
    "\n",
    "Reading the original dataset authors paper, we see they used a Random Forest machine learning model and averaged 50.76% accuracy at predicting what different foods different images had in them.\n",
    "\n",
    "From now on, that 50.76% will be our baseline."
   ]
  },
  {
   "cell_type": "markdown",
   "id": "544adfb5-3347-47e2-a212-76b0ac19e642",
   "metadata": {},
   "source": [
    "The code in the following cell replicates and end-to-end way to model our pizza_steak dataset with a convolutional neural network (CNN) using the components listed above.\n",
    "\n",
    "There will be a bunch of things you might not recognize but step through the code yourself and see if you can figure out what it's doing.\n",
    "\n",
    "We'll go through each of the steps later on in the notebook.\n",
    "\n",
    "For reference, the model we're using replicates TinyVGG, the computer vision architecture which fuels the CNN explainer webpage."
   ]
  },
  {
   "cell_type": "code",
   "execution_count": 58,
   "id": "66e444a6-3474-4f5c-bc04-0e2474f691cd",
   "metadata": {},
   "outputs": [],
   "source": [
    "import tensorflow as tf\n",
    "from tensorflow.keras.preprocessing.image import ImageDataGenerator"
   ]
  },
  {
   "cell_type": "code",
   "execution_count": 60,
   "id": "c3028874-5560-4ba3-b389-321c96788212",
   "metadata": {},
   "outputs": [],
   "source": [
    "# Set the seed\n",
    "tf.random.set_seed(42)"
   ]
  },
  {
   "cell_type": "code",
   "execution_count": 62,
   "id": "dc57ad8d-b740-4fee-8d0c-6802cbe9ec1e",
   "metadata": {},
   "outputs": [],
   "source": [
    "# Preprocess data (get all of the pixel values between 1 and 0, also called scaling/normalization)\n",
    "train_datagen = ImageDataGenerator(rescale=1./255)\n",
    "valid_datagen = ImageDataGenerator(rescale=1./255)"
   ]
  },
  {
   "cell_type": "code",
   "execution_count": 64,
   "id": "d5960f48-2fa2-4db7-8ac5-5c6b07c6ac3c",
   "metadata": {},
   "outputs": [],
   "source": [
    "# Setup the train and test directories\n",
    "train_dir = \"pizza_steak/train/\"\n",
    "test_dir = \"pizza_steak/test/\""
   ]
  },
  {
   "cell_type": "code",
   "execution_count": 66,
   "id": "1989b24a-18a8-487a-8672-107e27e2ce13",
   "metadata": {},
   "outputs": [
    {
     "name": "stdout",
     "output_type": "stream",
     "text": [
      "Found 1500 images belonging to 2 classes.\n",
      "Found 500 images belonging to 2 classes.\n"
     ]
    }
   ],
   "source": [
    "# Import data from directories and turn it into batches\n",
    "train_data = train_datagen.flow_from_directory(train_dir,\n",
    "                                               batch_size=32, # number of images to process at a time \n",
    "                                               target_size=(224, 224), # convert all images to be 224 x 224\n",
    "                                               class_mode=\"binary\", # type of problem we're working on\n",
    "                                               seed=42)\n",
    "\n",
    "valid_data = valid_datagen.flow_from_directory(test_dir,\n",
    "                                               batch_size=32,\n",
    "                                               target_size=(224, 224),\n",
    "                                               class_mode=\"binary\",\n",
    "                                               seed=42)"
   ]
  },
  {
   "cell_type": "code",
   "execution_count": 68,
   "id": "2a2d50b0-7b63-4450-908e-5cb2ec96ad06",
   "metadata": {},
   "outputs": [
    {
     "name": "stderr",
     "output_type": "stream",
     "text": [
      "C:\\Users\\Lenovo\\anaconda3\\Lib\\site-packages\\keras\\src\\layers\\convolutional\\base_conv.py:107: UserWarning: Do not pass an `input_shape`/`input_dim` argument to a layer. When using Sequential models, prefer using an `Input(shape)` object as the first layer in the model instead.\n",
      "  super().__init__(activity_regularizer=activity_regularizer, **kwargs)\n"
     ]
    }
   ],
   "source": [
    "# Create a CNN model (same as Tiny VGG - https://poloclub.github.io/cnn-explainer/)\n",
    "model_1 = tf.keras.models.Sequential([\n",
    "  tf.keras.layers.Conv2D(filters=10, \n",
    "                         kernel_size=3, # can also be (3, 3)\n",
    "                         activation=\"relu\", \n",
    "                         input_shape=(224, 224, 3)), # first layer specifies input shape (height, width, colour channels)\n",
    "  tf.keras.layers.Conv2D(10, 3, activation=\"relu\"),\n",
    "  tf.keras.layers.MaxPool2D(pool_size=2, # pool_size can also be (2, 2)\n",
    "                            padding=\"valid\"), # padding can also be 'same'\n",
    "  tf.keras.layers.Conv2D(10, 3, activation=\"relu\"),\n",
    "  tf.keras.layers.Conv2D(10, 3, activation=\"relu\"), # activation='relu' == tf.keras.layers.Activations(tf.nn.relu)\n",
    "  tf.keras.layers.MaxPool2D(2),\n",
    "  tf.keras.layers.Flatten(),\n",
    "  tf.keras.layers.Dense(1, activation=\"sigmoid\") # binary activation output\n",
    "])"
   ]
  },
  {
   "cell_type": "code",
   "execution_count": 70,
   "id": "91dad8bf-22a0-4e87-a0ed-8344753f770a",
   "metadata": {},
   "outputs": [],
   "source": [
    "# Compile the model\n",
    "model_1.compile(loss=\"binary_crossentropy\",\n",
    "              optimizer=tf.keras.optimizers.Adam(),\n",
    "              metrics=[\"accuracy\"])"
   ]
  },
  {
   "cell_type": "code",
   "execution_count": 72,
   "id": "48d06e07-0fff-4adb-bf85-76ec11f6bc0b",
   "metadata": {},
   "outputs": [
    {
     "name": "stderr",
     "output_type": "stream",
     "text": [
      "C:\\Users\\Lenovo\\anaconda3\\Lib\\site-packages\\keras\\src\\trainers\\data_adapters\\py_dataset_adapter.py:121: UserWarning: Your `PyDataset` class should call `super().__init__(**kwargs)` in its constructor. `**kwargs` can include `workers`, `use_multiprocessing`, `max_queue_size`. Do not pass these arguments to `fit()`, as they will be ignored.\n",
      "  self._warn_if_super_not_called()\n"
     ]
    },
    {
     "name": "stdout",
     "output_type": "stream",
     "text": [
      "Epoch 1/5\n",
      "\u001b[1m47/47\u001b[0m \u001b[32m━━━━━━━━━━━━━━━━━━━━\u001b[0m\u001b[37m\u001b[0m \u001b[1m45s\u001b[0m 845ms/step - accuracy: 0.6644 - loss: 0.5933 - val_accuracy: 0.7720 - val_loss: 0.4633\n",
      "Epoch 2/5\n",
      "\u001b[1m47/47\u001b[0m \u001b[32m━━━━━━━━━━━━━━━━━━━━\u001b[0m\u001b[37m\u001b[0m \u001b[1m37s\u001b[0m 783ms/step - accuracy: 0.8178 - loss: 0.4186 - val_accuracy: 0.8440 - val_loss: 0.3980\n",
      "Epoch 3/5\n",
      "\u001b[1m47/47\u001b[0m \u001b[32m━━━━━━━━━━━━━━━━━━━━\u001b[0m\u001b[37m\u001b[0m \u001b[1m36s\u001b[0m 771ms/step - accuracy: 0.8602 - loss: 0.3467 - val_accuracy: 0.8500 - val_loss: 0.3941\n",
      "Epoch 4/5\n",
      "\u001b[1m47/47\u001b[0m \u001b[32m━━━━━━━━━━━━━━━━━━━━\u001b[0m\u001b[37m\u001b[0m \u001b[1m35s\u001b[0m 753ms/step - accuracy: 0.8935 - loss: 0.2962 - val_accuracy: 0.8120 - val_loss: 0.4374\n",
      "Epoch 5/5\n",
      "\u001b[1m47/47\u001b[0m \u001b[32m━━━━━━━━━━━━━━━━━━━━\u001b[0m\u001b[37m\u001b[0m \u001b[1m37s\u001b[0m 793ms/step - accuracy: 0.8913 - loss: 0.2555 - val_accuracy: 0.8500 - val_loss: 0.4113\n"
     ]
    }
   ],
   "source": [
    "# Fit the model\n",
    "history_1 = model_1.fit(train_data,\n",
    "                        epochs=5,\n",
    "                        steps_per_epoch=len(train_data),\n",
    "                        validation_data=valid_data,\n",
    "                        validation_steps=len(valid_data))"
   ]
  },
  {
   "cell_type": "markdown",
   "id": "0071fb77-1bcc-46ad-b54b-4b542637847d",
   "metadata": {},
   "source": [
    "Nice! After 5 epochs, our model beat the baseline score of 50.76% accuracy (our model got ~85% accuaracy on the training set and ~85% accuracy on the test set).\n",
    "\n",
    "However, our model only went through a binary classificaiton problem rather than all of the 101 classes in the Food101 dataset, so we can't directly compare these metrics. That being said, the results so far show that our model is learning something."
   ]
  },
  {
   "cell_type": "markdown",
   "id": "39cd7944-38e2-4152-9c92-5cb779487df1",
   "metadata": {},
   "source": [
    "### Since we've already fit a model, let's check out its architecture."
   ]
  },
  {
   "cell_type": "code",
   "execution_count": 76,
   "id": "c58575f2-e7b0-4a44-913a-da52fe4016c9",
   "metadata": {},
   "outputs": [
    {
     "data": {
      "text/html": [
       "<pre style=\"white-space:pre;overflow-x:auto;line-height:normal;font-family:Menlo,'DejaVu Sans Mono',consolas,'Courier New',monospace\"><span style=\"font-weight: bold\">Model: \"sequential\"</span>\n",
       "</pre>\n"
      ],
      "text/plain": [
       "\u001b[1mModel: \"sequential\"\u001b[0m\n"
      ]
     },
     "metadata": {},
     "output_type": "display_data"
    },
    {
     "data": {
      "text/html": [
       "<pre style=\"white-space:pre;overflow-x:auto;line-height:normal;font-family:Menlo,'DejaVu Sans Mono',consolas,'Courier New',monospace\">┏━━━━━━━━━━━━━━━━━━━━━━━━━━━━━━━━━┳━━━━━━━━━━━━━━━━━━━━━━━━┳━━━━━━━━━━━━━━━┓\n",
       "┃<span style=\"font-weight: bold\"> Layer (type)                    </span>┃<span style=\"font-weight: bold\"> Output Shape           </span>┃<span style=\"font-weight: bold\">       Param # </span>┃\n",
       "┡━━━━━━━━━━━━━━━━━━━━━━━━━━━━━━━━━╇━━━━━━━━━━━━━━━━━━━━━━━━╇━━━━━━━━━━━━━━━┩\n",
       "│ conv2d (<span style=\"color: #0087ff; text-decoration-color: #0087ff\">Conv2D</span>)                 │ (<span style=\"color: #00d7ff; text-decoration-color: #00d7ff\">None</span>, <span style=\"color: #00af00; text-decoration-color: #00af00\">222</span>, <span style=\"color: #00af00; text-decoration-color: #00af00\">222</span>, <span style=\"color: #00af00; text-decoration-color: #00af00\">10</span>)   │           <span style=\"color: #00af00; text-decoration-color: #00af00\">280</span> │\n",
       "├─────────────────────────────────┼────────────────────────┼───────────────┤\n",
       "│ conv2d_1 (<span style=\"color: #0087ff; text-decoration-color: #0087ff\">Conv2D</span>)               │ (<span style=\"color: #00d7ff; text-decoration-color: #00d7ff\">None</span>, <span style=\"color: #00af00; text-decoration-color: #00af00\">220</span>, <span style=\"color: #00af00; text-decoration-color: #00af00\">220</span>, <span style=\"color: #00af00; text-decoration-color: #00af00\">10</span>)   │           <span style=\"color: #00af00; text-decoration-color: #00af00\">910</span> │\n",
       "├─────────────────────────────────┼────────────────────────┼───────────────┤\n",
       "│ max_pooling2d (<span style=\"color: #0087ff; text-decoration-color: #0087ff\">MaxPooling2D</span>)    │ (<span style=\"color: #00d7ff; text-decoration-color: #00d7ff\">None</span>, <span style=\"color: #00af00; text-decoration-color: #00af00\">110</span>, <span style=\"color: #00af00; text-decoration-color: #00af00\">110</span>, <span style=\"color: #00af00; text-decoration-color: #00af00\">10</span>)   │             <span style=\"color: #00af00; text-decoration-color: #00af00\">0</span> │\n",
       "├─────────────────────────────────┼────────────────────────┼───────────────┤\n",
       "│ conv2d_2 (<span style=\"color: #0087ff; text-decoration-color: #0087ff\">Conv2D</span>)               │ (<span style=\"color: #00d7ff; text-decoration-color: #00d7ff\">None</span>, <span style=\"color: #00af00; text-decoration-color: #00af00\">108</span>, <span style=\"color: #00af00; text-decoration-color: #00af00\">108</span>, <span style=\"color: #00af00; text-decoration-color: #00af00\">10</span>)   │           <span style=\"color: #00af00; text-decoration-color: #00af00\">910</span> │\n",
       "├─────────────────────────────────┼────────────────────────┼───────────────┤\n",
       "│ conv2d_3 (<span style=\"color: #0087ff; text-decoration-color: #0087ff\">Conv2D</span>)               │ (<span style=\"color: #00d7ff; text-decoration-color: #00d7ff\">None</span>, <span style=\"color: #00af00; text-decoration-color: #00af00\">106</span>, <span style=\"color: #00af00; text-decoration-color: #00af00\">106</span>, <span style=\"color: #00af00; text-decoration-color: #00af00\">10</span>)   │           <span style=\"color: #00af00; text-decoration-color: #00af00\">910</span> │\n",
       "├─────────────────────────────────┼────────────────────────┼───────────────┤\n",
       "│ max_pooling2d_1 (<span style=\"color: #0087ff; text-decoration-color: #0087ff\">MaxPooling2D</span>)  │ (<span style=\"color: #00d7ff; text-decoration-color: #00d7ff\">None</span>, <span style=\"color: #00af00; text-decoration-color: #00af00\">53</span>, <span style=\"color: #00af00; text-decoration-color: #00af00\">53</span>, <span style=\"color: #00af00; text-decoration-color: #00af00\">10</span>)     │             <span style=\"color: #00af00; text-decoration-color: #00af00\">0</span> │\n",
       "├─────────────────────────────────┼────────────────────────┼───────────────┤\n",
       "│ flatten (<span style=\"color: #0087ff; text-decoration-color: #0087ff\">Flatten</span>)               │ (<span style=\"color: #00d7ff; text-decoration-color: #00d7ff\">None</span>, <span style=\"color: #00af00; text-decoration-color: #00af00\">28090</span>)          │             <span style=\"color: #00af00; text-decoration-color: #00af00\">0</span> │\n",
       "├─────────────────────────────────┼────────────────────────┼───────────────┤\n",
       "│ dense (<span style=\"color: #0087ff; text-decoration-color: #0087ff\">Dense</span>)                   │ (<span style=\"color: #00d7ff; text-decoration-color: #00d7ff\">None</span>, <span style=\"color: #00af00; text-decoration-color: #00af00\">1</span>)              │        <span style=\"color: #00af00; text-decoration-color: #00af00\">28,091</span> │\n",
       "└─────────────────────────────────┴────────────────────────┴───────────────┘\n",
       "</pre>\n"
      ],
      "text/plain": [
       "┏━━━━━━━━━━━━━━━━━━━━━━━━━━━━━━━━━┳━━━━━━━━━━━━━━━━━━━━━━━━┳━━━━━━━━━━━━━━━┓\n",
       "┃\u001b[1m \u001b[0m\u001b[1mLayer (type)                   \u001b[0m\u001b[1m \u001b[0m┃\u001b[1m \u001b[0m\u001b[1mOutput Shape          \u001b[0m\u001b[1m \u001b[0m┃\u001b[1m \u001b[0m\u001b[1m      Param #\u001b[0m\u001b[1m \u001b[0m┃\n",
       "┡━━━━━━━━━━━━━━━━━━━━━━━━━━━━━━━━━╇━━━━━━━━━━━━━━━━━━━━━━━━╇━━━━━━━━━━━━━━━┩\n",
       "│ conv2d (\u001b[38;5;33mConv2D\u001b[0m)                 │ (\u001b[38;5;45mNone\u001b[0m, \u001b[38;5;34m222\u001b[0m, \u001b[38;5;34m222\u001b[0m, \u001b[38;5;34m10\u001b[0m)   │           \u001b[38;5;34m280\u001b[0m │\n",
       "├─────────────────────────────────┼────────────────────────┼───────────────┤\n",
       "│ conv2d_1 (\u001b[38;5;33mConv2D\u001b[0m)               │ (\u001b[38;5;45mNone\u001b[0m, \u001b[38;5;34m220\u001b[0m, \u001b[38;5;34m220\u001b[0m, \u001b[38;5;34m10\u001b[0m)   │           \u001b[38;5;34m910\u001b[0m │\n",
       "├─────────────────────────────────┼────────────────────────┼───────────────┤\n",
       "│ max_pooling2d (\u001b[38;5;33mMaxPooling2D\u001b[0m)    │ (\u001b[38;5;45mNone\u001b[0m, \u001b[38;5;34m110\u001b[0m, \u001b[38;5;34m110\u001b[0m, \u001b[38;5;34m10\u001b[0m)   │             \u001b[38;5;34m0\u001b[0m │\n",
       "├─────────────────────────────────┼────────────────────────┼───────────────┤\n",
       "│ conv2d_2 (\u001b[38;5;33mConv2D\u001b[0m)               │ (\u001b[38;5;45mNone\u001b[0m, \u001b[38;5;34m108\u001b[0m, \u001b[38;5;34m108\u001b[0m, \u001b[38;5;34m10\u001b[0m)   │           \u001b[38;5;34m910\u001b[0m │\n",
       "├─────────────────────────────────┼────────────────────────┼───────────────┤\n",
       "│ conv2d_3 (\u001b[38;5;33mConv2D\u001b[0m)               │ (\u001b[38;5;45mNone\u001b[0m, \u001b[38;5;34m106\u001b[0m, \u001b[38;5;34m106\u001b[0m, \u001b[38;5;34m10\u001b[0m)   │           \u001b[38;5;34m910\u001b[0m │\n",
       "├─────────────────────────────────┼────────────────────────┼───────────────┤\n",
       "│ max_pooling2d_1 (\u001b[38;5;33mMaxPooling2D\u001b[0m)  │ (\u001b[38;5;45mNone\u001b[0m, \u001b[38;5;34m53\u001b[0m, \u001b[38;5;34m53\u001b[0m, \u001b[38;5;34m10\u001b[0m)     │             \u001b[38;5;34m0\u001b[0m │\n",
       "├─────────────────────────────────┼────────────────────────┼───────────────┤\n",
       "│ flatten (\u001b[38;5;33mFlatten\u001b[0m)               │ (\u001b[38;5;45mNone\u001b[0m, \u001b[38;5;34m28090\u001b[0m)          │             \u001b[38;5;34m0\u001b[0m │\n",
       "├─────────────────────────────────┼────────────────────────┼───────────────┤\n",
       "│ dense (\u001b[38;5;33mDense\u001b[0m)                   │ (\u001b[38;5;45mNone\u001b[0m, \u001b[38;5;34m1\u001b[0m)              │        \u001b[38;5;34m28,091\u001b[0m │\n",
       "└─────────────────────────────────┴────────────────────────┴───────────────┘\n"
      ]
     },
     "metadata": {},
     "output_type": "display_data"
    },
    {
     "data": {
      "text/html": [
       "<pre style=\"white-space:pre;overflow-x:auto;line-height:normal;font-family:Menlo,'DejaVu Sans Mono',consolas,'Courier New',monospace\"><span style=\"font-weight: bold\"> Total params: </span><span style=\"color: #00af00; text-decoration-color: #00af00\">93,305</span> (364.48 KB)\n",
       "</pre>\n"
      ],
      "text/plain": [
       "\u001b[1m Total params: \u001b[0m\u001b[38;5;34m93,305\u001b[0m (364.48 KB)\n"
      ]
     },
     "metadata": {},
     "output_type": "display_data"
    },
    {
     "data": {
      "text/html": [
       "<pre style=\"white-space:pre;overflow-x:auto;line-height:normal;font-family:Menlo,'DejaVu Sans Mono',consolas,'Courier New',monospace\"><span style=\"font-weight: bold\"> Trainable params: </span><span style=\"color: #00af00; text-decoration-color: #00af00\">31,101</span> (121.49 KB)\n",
       "</pre>\n"
      ],
      "text/plain": [
       "\u001b[1m Trainable params: \u001b[0m\u001b[38;5;34m31,101\u001b[0m (121.49 KB)\n"
      ]
     },
     "metadata": {},
     "output_type": "display_data"
    },
    {
     "data": {
      "text/html": [
       "<pre style=\"white-space:pre;overflow-x:auto;line-height:normal;font-family:Menlo,'DejaVu Sans Mono',consolas,'Courier New',monospace\"><span style=\"font-weight: bold\"> Non-trainable params: </span><span style=\"color: #00af00; text-decoration-color: #00af00\">0</span> (0.00 B)\n",
       "</pre>\n"
      ],
      "text/plain": [
       "\u001b[1m Non-trainable params: \u001b[0m\u001b[38;5;34m0\u001b[0m (0.00 B)\n"
      ]
     },
     "metadata": {},
     "output_type": "display_data"
    },
    {
     "data": {
      "text/html": [
       "<pre style=\"white-space:pre;overflow-x:auto;line-height:normal;font-family:Menlo,'DejaVu Sans Mono',consolas,'Courier New',monospace\"><span style=\"font-weight: bold\"> Optimizer params: </span><span style=\"color: #00af00; text-decoration-color: #00af00\">62,204</span> (242.99 KB)\n",
       "</pre>\n"
      ],
      "text/plain": [
       "\u001b[1m Optimizer params: \u001b[0m\u001b[38;5;34m62,204\u001b[0m (242.99 KB)\n"
      ]
     },
     "metadata": {},
     "output_type": "display_data"
    }
   ],
   "source": [
    "# Check out the layers in our model\n",
    "model_1.summary()"
   ]
  },
  {
   "cell_type": "markdown",
   "id": "f3c20f81-6764-4d37-96eb-17889e064150",
   "metadata": {},
   "source": [
    "### Using the same model as before"
   ]
  },
  {
   "cell_type": "markdown",
   "id": "4613cbd4-1dec-4f70-9676-e10d1274eb69",
   "metadata": {},
   "source": [
    "We can use all of the same parameters in our previous model except for changing two things:\n",
    "\n",
    "    The data - we're now working with images instead of dots.\n",
    "    The input shape - we have to tell our neural network the shape of the images we're working with.\n",
    "        A common practice is to reshape images all to one size. In our case, we'll resize the images to (224, 224, 3), meaning a height and width of 224 pixels and a depth of 3 for the red, green, blue colour channels.\n"
   ]
  },
  {
   "cell_type": "code",
   "execution_count": 82,
   "id": "216c35dc-4880-408e-a9d5-8bfcf773bb78",
   "metadata": {},
   "outputs": [
    {
     "name": "stdout",
     "output_type": "stream",
     "text": [
      "Epoch 1/5\n",
      "\u001b[1m47/47\u001b[0m \u001b[32m━━━━━━━━━━━━━━━━━━━━\u001b[0m\u001b[37m\u001b[0m \u001b[1m25s\u001b[0m 466ms/step - accuracy: 0.5130 - loss: 2.1853 - val_accuracy: 0.5000 - val_loss: 0.6932\n",
      "Epoch 2/5\n",
      "\u001b[1m47/47\u001b[0m \u001b[32m━━━━━━━━━━━━━━━━━━━━\u001b[0m\u001b[37m\u001b[0m \u001b[1m26s\u001b[0m 554ms/step - accuracy: 0.5100 - loss: 0.6930 - val_accuracy: 0.5000 - val_loss: 0.6932\n",
      "Epoch 3/5\n",
      "\u001b[1m47/47\u001b[0m \u001b[32m━━━━━━━━━━━━━━━━━━━━\u001b[0m\u001b[37m\u001b[0m \u001b[1m20s\u001b[0m 433ms/step - accuracy: 0.4818 - loss: 0.6935 - val_accuracy: 0.5000 - val_loss: 0.6932\n",
      "Epoch 4/5\n",
      "\u001b[1m47/47\u001b[0m \u001b[32m━━━━━━━━━━━━━━━━━━━━\u001b[0m\u001b[37m\u001b[0m \u001b[1m26s\u001b[0m 547ms/step - accuracy: 0.4924 - loss: 0.6933 - val_accuracy: 0.5000 - val_loss: 0.6932\n",
      "Epoch 5/5\n",
      "\u001b[1m47/47\u001b[0m \u001b[32m━━━━━━━━━━━━━━━━━━━━\u001b[0m\u001b[37m\u001b[0m \u001b[1m20s\u001b[0m 432ms/step - accuracy: 0.5069 - loss: 0.6931 - val_accuracy: 0.5000 - val_loss: 0.6932\n"
     ]
    }
   ],
   "source": [
    "# Set random seed\n",
    "tf.random.set_seed(42)\n",
    "\n",
    "# Create a model to replicate the TensorFlow Playground model\n",
    "model_2 = tf.keras.Sequential([\n",
    "  tf.keras.layers.Flatten(input_shape=(224, 224, 3)), # dense layers expect a 1-dimensional vector as input\n",
    "  tf.keras.layers.Dense(4, activation='relu'),\n",
    "  tf.keras.layers.Dense(4, activation='relu'),\n",
    "  tf.keras.layers.Dense(1, activation='sigmoid')\n",
    "])\n",
    "\n",
    "# Compile the model\n",
    "model_2.compile(loss='binary_crossentropy',\n",
    "              optimizer=tf.keras.optimizers.Adam(),\n",
    "              metrics=[\"accuracy\"])\n",
    "\n",
    "# Fit the model\n",
    "history_2 = model_2.fit(train_data, # use same training data created above\n",
    "                        epochs=5,\n",
    "                        steps_per_epoch=len(train_data),\n",
    "                        validation_data=valid_data, # use same validation data created above\n",
    "                        validation_steps=len(valid_data))"
   ]
  },
  {
   "cell_type": "markdown",
   "id": "0c53cfb6-5ebb-48a5-8078-2a4d12491fd5",
   "metadata": {},
   "source": [
    "\n",
    "\n",
    "Hmmm... our model ran but it doesn't seem like it learned anything. It only reaches 50% accuracy on the training and test sets which in a binary classification problem is as good as guessing.\n",
    "\n",
    "Let's see the architecture.\n"
   ]
  },
  {
   "cell_type": "code",
   "execution_count": 85,
   "id": "635ac279-4c87-42c9-af9a-5085ad58a638",
   "metadata": {},
   "outputs": [
    {
     "data": {
      "text/html": [
       "<pre style=\"white-space:pre;overflow-x:auto;line-height:normal;font-family:Menlo,'DejaVu Sans Mono',consolas,'Courier New',monospace\"><span style=\"font-weight: bold\">Model: \"sequential_2\"</span>\n",
       "</pre>\n"
      ],
      "text/plain": [
       "\u001b[1mModel: \"sequential_2\"\u001b[0m\n"
      ]
     },
     "metadata": {},
     "output_type": "display_data"
    },
    {
     "data": {
      "text/html": [
       "<pre style=\"white-space:pre;overflow-x:auto;line-height:normal;font-family:Menlo,'DejaVu Sans Mono',consolas,'Courier New',monospace\">┏━━━━━━━━━━━━━━━━━━━━━━━━━━━━━━━━━┳━━━━━━━━━━━━━━━━━━━━━━━━┳━━━━━━━━━━━━━━━┓\n",
       "┃<span style=\"font-weight: bold\"> Layer (type)                    </span>┃<span style=\"font-weight: bold\"> Output Shape           </span>┃<span style=\"font-weight: bold\">       Param # </span>┃\n",
       "┡━━━━━━━━━━━━━━━━━━━━━━━━━━━━━━━━━╇━━━━━━━━━━━━━━━━━━━━━━━━╇━━━━━━━━━━━━━━━┩\n",
       "│ flatten_2 (<span style=\"color: #0087ff; text-decoration-color: #0087ff\">Flatten</span>)             │ (<span style=\"color: #00d7ff; text-decoration-color: #00d7ff\">None</span>, <span style=\"color: #00af00; text-decoration-color: #00af00\">150528</span>)         │             <span style=\"color: #00af00; text-decoration-color: #00af00\">0</span> │\n",
       "├─────────────────────────────────┼────────────────────────┼───────────────┤\n",
       "│ dense_4 (<span style=\"color: #0087ff; text-decoration-color: #0087ff\">Dense</span>)                 │ (<span style=\"color: #00d7ff; text-decoration-color: #00d7ff\">None</span>, <span style=\"color: #00af00; text-decoration-color: #00af00\">4</span>)              │       <span style=\"color: #00af00; text-decoration-color: #00af00\">602,116</span> │\n",
       "├─────────────────────────────────┼────────────────────────┼───────────────┤\n",
       "│ dense_5 (<span style=\"color: #0087ff; text-decoration-color: #0087ff\">Dense</span>)                 │ (<span style=\"color: #00d7ff; text-decoration-color: #00d7ff\">None</span>, <span style=\"color: #00af00; text-decoration-color: #00af00\">4</span>)              │            <span style=\"color: #00af00; text-decoration-color: #00af00\">20</span> │\n",
       "├─────────────────────────────────┼────────────────────────┼───────────────┤\n",
       "│ dense_6 (<span style=\"color: #0087ff; text-decoration-color: #0087ff\">Dense</span>)                 │ (<span style=\"color: #00d7ff; text-decoration-color: #00d7ff\">None</span>, <span style=\"color: #00af00; text-decoration-color: #00af00\">1</span>)              │             <span style=\"color: #00af00; text-decoration-color: #00af00\">5</span> │\n",
       "└─────────────────────────────────┴────────────────────────┴───────────────┘\n",
       "</pre>\n"
      ],
      "text/plain": [
       "┏━━━━━━━━━━━━━━━━━━━━━━━━━━━━━━━━━┳━━━━━━━━━━━━━━━━━━━━━━━━┳━━━━━━━━━━━━━━━┓\n",
       "┃\u001b[1m \u001b[0m\u001b[1mLayer (type)                   \u001b[0m\u001b[1m \u001b[0m┃\u001b[1m \u001b[0m\u001b[1mOutput Shape          \u001b[0m\u001b[1m \u001b[0m┃\u001b[1m \u001b[0m\u001b[1m      Param #\u001b[0m\u001b[1m \u001b[0m┃\n",
       "┡━━━━━━━━━━━━━━━━━━━━━━━━━━━━━━━━━╇━━━━━━━━━━━━━━━━━━━━━━━━╇━━━━━━━━━━━━━━━┩\n",
       "│ flatten_2 (\u001b[38;5;33mFlatten\u001b[0m)             │ (\u001b[38;5;45mNone\u001b[0m, \u001b[38;5;34m150528\u001b[0m)         │             \u001b[38;5;34m0\u001b[0m │\n",
       "├─────────────────────────────────┼────────────────────────┼───────────────┤\n",
       "│ dense_4 (\u001b[38;5;33mDense\u001b[0m)                 │ (\u001b[38;5;45mNone\u001b[0m, \u001b[38;5;34m4\u001b[0m)              │       \u001b[38;5;34m602,116\u001b[0m │\n",
       "├─────────────────────────────────┼────────────────────────┼───────────────┤\n",
       "│ dense_5 (\u001b[38;5;33mDense\u001b[0m)                 │ (\u001b[38;5;45mNone\u001b[0m, \u001b[38;5;34m4\u001b[0m)              │            \u001b[38;5;34m20\u001b[0m │\n",
       "├─────────────────────────────────┼────────────────────────┼───────────────┤\n",
       "│ dense_6 (\u001b[38;5;33mDense\u001b[0m)                 │ (\u001b[38;5;45mNone\u001b[0m, \u001b[38;5;34m1\u001b[0m)              │             \u001b[38;5;34m5\u001b[0m │\n",
       "└─────────────────────────────────┴────────────────────────┴───────────────┘\n"
      ]
     },
     "metadata": {},
     "output_type": "display_data"
    },
    {
     "data": {
      "text/html": [
       "<pre style=\"white-space:pre;overflow-x:auto;line-height:normal;font-family:Menlo,'DejaVu Sans Mono',consolas,'Courier New',monospace\"><span style=\"font-weight: bold\"> Total params: </span><span style=\"color: #00af00; text-decoration-color: #00af00\">1,806,425</span> (6.89 MB)\n",
       "</pre>\n"
      ],
      "text/plain": [
       "\u001b[1m Total params: \u001b[0m\u001b[38;5;34m1,806,425\u001b[0m (6.89 MB)\n"
      ]
     },
     "metadata": {},
     "output_type": "display_data"
    },
    {
     "data": {
      "text/html": [
       "<pre style=\"white-space:pre;overflow-x:auto;line-height:normal;font-family:Menlo,'DejaVu Sans Mono',consolas,'Courier New',monospace\"><span style=\"font-weight: bold\"> Trainable params: </span><span style=\"color: #00af00; text-decoration-color: #00af00\">602,141</span> (2.30 MB)\n",
       "</pre>\n"
      ],
      "text/plain": [
       "\u001b[1m Trainable params: \u001b[0m\u001b[38;5;34m602,141\u001b[0m (2.30 MB)\n"
      ]
     },
     "metadata": {},
     "output_type": "display_data"
    },
    {
     "data": {
      "text/html": [
       "<pre style=\"white-space:pre;overflow-x:auto;line-height:normal;font-family:Menlo,'DejaVu Sans Mono',consolas,'Courier New',monospace\"><span style=\"font-weight: bold\"> Non-trainable params: </span><span style=\"color: #00af00; text-decoration-color: #00af00\">0</span> (0.00 B)\n",
       "</pre>\n"
      ],
      "text/plain": [
       "\u001b[1m Non-trainable params: \u001b[0m\u001b[38;5;34m0\u001b[0m (0.00 B)\n"
      ]
     },
     "metadata": {},
     "output_type": "display_data"
    },
    {
     "data": {
      "text/html": [
       "<pre style=\"white-space:pre;overflow-x:auto;line-height:normal;font-family:Menlo,'DejaVu Sans Mono',consolas,'Courier New',monospace\"><span style=\"font-weight: bold\"> Optimizer params: </span><span style=\"color: #00af00; text-decoration-color: #00af00\">1,204,284</span> (4.59 MB)\n",
       "</pre>\n"
      ],
      "text/plain": [
       "\u001b[1m Optimizer params: \u001b[0m\u001b[38;5;34m1,204,284\u001b[0m (4.59 MB)\n"
      ]
     },
     "metadata": {},
     "output_type": "display_data"
    }
   ],
   "source": [
    "# Check out our second model's architecture\n",
    "model_2.summary()"
   ]
  },
  {
   "cell_type": "markdown",
   "id": "f4108249-3d3d-4fb3-9aa9-d69bef4ede8c",
   "metadata": {},
   "source": [
    "Since our previous model didn't work, do you have any ideas of how we might make it work?\n",
    "\n",
    "How about we increase the number of layers?\n",
    "\n",
    "And maybe even increase the number of neurons in each layer?\n",
    "\n",
    "More specifically, we'll increase the number of neurons (also called hidden units) in each dense layer from 4 to 100 and add an extra layer."
   ]
  },
  {
   "cell_type": "code",
   "execution_count": 88,
   "id": "07fb1579-867b-446e-ba94-ceb0c8ffbf97",
   "metadata": {},
   "outputs": [
    {
     "name": "stdout",
     "output_type": "stream",
     "text": [
      "Epoch 1/5\n",
      "\u001b[1m47/47\u001b[0m \u001b[32m━━━━━━━━━━━━━━━━━━━━\u001b[0m\u001b[37m\u001b[0m \u001b[1m33s\u001b[0m 608ms/step - accuracy: 0.5642 - loss: 6.1609 - val_accuracy: 0.7620 - val_loss: 0.5528\n",
      "Epoch 2/5\n",
      "\u001b[1m47/47\u001b[0m \u001b[32m━━━━━━━━━━━━━━━━━━━━\u001b[0m\u001b[37m\u001b[0m \u001b[1m29s\u001b[0m 611ms/step - accuracy: 0.7483 - loss: 0.6011 - val_accuracy: 0.6140 - val_loss: 1.0030\n",
      "Epoch 3/5\n",
      "\u001b[1m47/47\u001b[0m \u001b[32m━━━━━━━━━━━━━━━━━━━━\u001b[0m\u001b[37m\u001b[0m \u001b[1m29s\u001b[0m 610ms/step - accuracy: 0.7012 - loss: 0.9771 - val_accuracy: 0.7700 - val_loss: 0.5273\n",
      "Epoch 4/5\n",
      "\u001b[1m47/47\u001b[0m \u001b[32m━━━━━━━━━━━━━━━━━━━━\u001b[0m\u001b[37m\u001b[0m \u001b[1m26s\u001b[0m 558ms/step - accuracy: 0.8125 - loss: 0.4307 - val_accuracy: 0.7640 - val_loss: 0.5471\n",
      "Epoch 5/5\n",
      "\u001b[1m47/47\u001b[0m \u001b[32m━━━━━━━━━━━━━━━━━━━━\u001b[0m\u001b[37m\u001b[0m \u001b[1m27s\u001b[0m 566ms/step - accuracy: 0.8017 - loss: 0.4444 - val_accuracy: 0.7820 - val_loss: 0.5610\n"
     ]
    }
   ],
   "source": [
    "# Set random seed\n",
    "tf.random.set_seed(42)\n",
    "\n",
    "# Create a model similar to model_1 but add an extra layer and increase the number of hidden units in each layer\n",
    "model_3 = tf.keras.Sequential([\n",
    "  tf.keras.layers.Flatten(input_shape=(224, 224, 3)), # dense layers expect a 1-dimensional vector as input\n",
    "  tf.keras.layers.Dense(100, activation='relu'), # increase number of neurons from 4 to 100 (for each layer)\n",
    "  tf.keras.layers.Dense(100, activation='relu'),\n",
    "  tf.keras.layers.Dense(100, activation='relu'), # add an extra layer\n",
    "  tf.keras.layers.Dense(1, activation='sigmoid')\n",
    "])\n",
    "\n",
    "# Compile the model\n",
    "model_3.compile(loss='binary_crossentropy',\n",
    "              optimizer=tf.keras.optimizers.Adam(),\n",
    "              metrics=[\"accuracy\"])\n",
    "\n",
    "# Fit the model\n",
    "history_3 = model_3.fit(train_data,\n",
    "                        epochs=5,\n",
    "                        steps_per_epoch=len(train_data),\n",
    "                        validation_data=valid_data,\n",
    "                        validation_steps=len(valid_data))"
   ]
  },
  {
   "cell_type": "code",
   "execution_count": 90,
   "id": "dbb14079-f126-499c-8e5c-6bb937035b6b",
   "metadata": {},
   "outputs": [
    {
     "data": {
      "text/html": [
       "<pre style=\"white-space:pre;overflow-x:auto;line-height:normal;font-family:Menlo,'DejaVu Sans Mono',consolas,'Courier New',monospace\"><span style=\"font-weight: bold\">Model: \"sequential_3\"</span>\n",
       "</pre>\n"
      ],
      "text/plain": [
       "\u001b[1mModel: \"sequential_3\"\u001b[0m\n"
      ]
     },
     "metadata": {},
     "output_type": "display_data"
    },
    {
     "data": {
      "text/html": [
       "<pre style=\"white-space:pre;overflow-x:auto;line-height:normal;font-family:Menlo,'DejaVu Sans Mono',consolas,'Courier New',monospace\">┏━━━━━━━━━━━━━━━━━━━━━━━━━━━━━━━━━┳━━━━━━━━━━━━━━━━━━━━━━━━┳━━━━━━━━━━━━━━━┓\n",
       "┃<span style=\"font-weight: bold\"> Layer (type)                    </span>┃<span style=\"font-weight: bold\"> Output Shape           </span>┃<span style=\"font-weight: bold\">       Param # </span>┃\n",
       "┡━━━━━━━━━━━━━━━━━━━━━━━━━━━━━━━━━╇━━━━━━━━━━━━━━━━━━━━━━━━╇━━━━━━━━━━━━━━━┩\n",
       "│ flatten_3 (<span style=\"color: #0087ff; text-decoration-color: #0087ff\">Flatten</span>)             │ (<span style=\"color: #00d7ff; text-decoration-color: #00d7ff\">None</span>, <span style=\"color: #00af00; text-decoration-color: #00af00\">150528</span>)         │             <span style=\"color: #00af00; text-decoration-color: #00af00\">0</span> │\n",
       "├─────────────────────────────────┼────────────────────────┼───────────────┤\n",
       "│ dense_7 (<span style=\"color: #0087ff; text-decoration-color: #0087ff\">Dense</span>)                 │ (<span style=\"color: #00d7ff; text-decoration-color: #00d7ff\">None</span>, <span style=\"color: #00af00; text-decoration-color: #00af00\">100</span>)            │    <span style=\"color: #00af00; text-decoration-color: #00af00\">15,052,900</span> │\n",
       "├─────────────────────────────────┼────────────────────────┼───────────────┤\n",
       "│ dense_8 (<span style=\"color: #0087ff; text-decoration-color: #0087ff\">Dense</span>)                 │ (<span style=\"color: #00d7ff; text-decoration-color: #00d7ff\">None</span>, <span style=\"color: #00af00; text-decoration-color: #00af00\">100</span>)            │        <span style=\"color: #00af00; text-decoration-color: #00af00\">10,100</span> │\n",
       "├─────────────────────────────────┼────────────────────────┼───────────────┤\n",
       "│ dense_9 (<span style=\"color: #0087ff; text-decoration-color: #0087ff\">Dense</span>)                 │ (<span style=\"color: #00d7ff; text-decoration-color: #00d7ff\">None</span>, <span style=\"color: #00af00; text-decoration-color: #00af00\">100</span>)            │        <span style=\"color: #00af00; text-decoration-color: #00af00\">10,100</span> │\n",
       "├─────────────────────────────────┼────────────────────────┼───────────────┤\n",
       "│ dense_10 (<span style=\"color: #0087ff; text-decoration-color: #0087ff\">Dense</span>)                │ (<span style=\"color: #00d7ff; text-decoration-color: #00d7ff\">None</span>, <span style=\"color: #00af00; text-decoration-color: #00af00\">1</span>)              │           <span style=\"color: #00af00; text-decoration-color: #00af00\">101</span> │\n",
       "└─────────────────────────────────┴────────────────────────┴───────────────┘\n",
       "</pre>\n"
      ],
      "text/plain": [
       "┏━━━━━━━━━━━━━━━━━━━━━━━━━━━━━━━━━┳━━━━━━━━━━━━━━━━━━━━━━━━┳━━━━━━━━━━━━━━━┓\n",
       "┃\u001b[1m \u001b[0m\u001b[1mLayer (type)                   \u001b[0m\u001b[1m \u001b[0m┃\u001b[1m \u001b[0m\u001b[1mOutput Shape          \u001b[0m\u001b[1m \u001b[0m┃\u001b[1m \u001b[0m\u001b[1m      Param #\u001b[0m\u001b[1m \u001b[0m┃\n",
       "┡━━━━━━━━━━━━━━━━━━━━━━━━━━━━━━━━━╇━━━━━━━━━━━━━━━━━━━━━━━━╇━━━━━━━━━━━━━━━┩\n",
       "│ flatten_3 (\u001b[38;5;33mFlatten\u001b[0m)             │ (\u001b[38;5;45mNone\u001b[0m, \u001b[38;5;34m150528\u001b[0m)         │             \u001b[38;5;34m0\u001b[0m │\n",
       "├─────────────────────────────────┼────────────────────────┼───────────────┤\n",
       "│ dense_7 (\u001b[38;5;33mDense\u001b[0m)                 │ (\u001b[38;5;45mNone\u001b[0m, \u001b[38;5;34m100\u001b[0m)            │    \u001b[38;5;34m15,052,900\u001b[0m │\n",
       "├─────────────────────────────────┼────────────────────────┼───────────────┤\n",
       "│ dense_8 (\u001b[38;5;33mDense\u001b[0m)                 │ (\u001b[38;5;45mNone\u001b[0m, \u001b[38;5;34m100\u001b[0m)            │        \u001b[38;5;34m10,100\u001b[0m │\n",
       "├─────────────────────────────────┼────────────────────────┼───────────────┤\n",
       "│ dense_9 (\u001b[38;5;33mDense\u001b[0m)                 │ (\u001b[38;5;45mNone\u001b[0m, \u001b[38;5;34m100\u001b[0m)            │        \u001b[38;5;34m10,100\u001b[0m │\n",
       "├─────────────────────────────────┼────────────────────────┼───────────────┤\n",
       "│ dense_10 (\u001b[38;5;33mDense\u001b[0m)                │ (\u001b[38;5;45mNone\u001b[0m, \u001b[38;5;34m1\u001b[0m)              │           \u001b[38;5;34m101\u001b[0m │\n",
       "└─────────────────────────────────┴────────────────────────┴───────────────┘\n"
      ]
     },
     "metadata": {},
     "output_type": "display_data"
    },
    {
     "data": {
      "text/html": [
       "<pre style=\"white-space:pre;overflow-x:auto;line-height:normal;font-family:Menlo,'DejaVu Sans Mono',consolas,'Courier New',monospace\"><span style=\"font-weight: bold\"> Total params: </span><span style=\"color: #00af00; text-decoration-color: #00af00\">45,219,605</span> (172.50 MB)\n",
       "</pre>\n"
      ],
      "text/plain": [
       "\u001b[1m Total params: \u001b[0m\u001b[38;5;34m45,219,605\u001b[0m (172.50 MB)\n"
      ]
     },
     "metadata": {},
     "output_type": "display_data"
    },
    {
     "data": {
      "text/html": [
       "<pre style=\"white-space:pre;overflow-x:auto;line-height:normal;font-family:Menlo,'DejaVu Sans Mono',consolas,'Courier New',monospace\"><span style=\"font-weight: bold\"> Trainable params: </span><span style=\"color: #00af00; text-decoration-color: #00af00\">15,073,201</span> (57.50 MB)\n",
       "</pre>\n"
      ],
      "text/plain": [
       "\u001b[1m Trainable params: \u001b[0m\u001b[38;5;34m15,073,201\u001b[0m (57.50 MB)\n"
      ]
     },
     "metadata": {},
     "output_type": "display_data"
    },
    {
     "data": {
      "text/html": [
       "<pre style=\"white-space:pre;overflow-x:auto;line-height:normal;font-family:Menlo,'DejaVu Sans Mono',consolas,'Courier New',monospace\"><span style=\"font-weight: bold\"> Non-trainable params: </span><span style=\"color: #00af00; text-decoration-color: #00af00\">0</span> (0.00 B)\n",
       "</pre>\n"
      ],
      "text/plain": [
       "\u001b[1m Non-trainable params: \u001b[0m\u001b[38;5;34m0\u001b[0m (0.00 B)\n"
      ]
     },
     "metadata": {},
     "output_type": "display_data"
    },
    {
     "data": {
      "text/html": [
       "<pre style=\"white-space:pre;overflow-x:auto;line-height:normal;font-family:Menlo,'DejaVu Sans Mono',consolas,'Courier New',monospace\"><span style=\"font-weight: bold\"> Optimizer params: </span><span style=\"color: #00af00; text-decoration-color: #00af00\">30,146,404</span> (115.00 MB)\n",
       "</pre>\n"
      ],
      "text/plain": [
       "\u001b[1m Optimizer params: \u001b[0m\u001b[38;5;34m30,146,404\u001b[0m (115.00 MB)\n"
      ]
     },
     "metadata": {},
     "output_type": "display_data"
    }
   ],
   "source": [
    "# Check out model_3 architecture\n",
    "model_3.summary()"
   ]
  },
  {
   "cell_type": "code",
   "execution_count": null,
   "id": "1ca27000-0166-4bc8-81e6-46a2ab879836",
   "metadata": {},
   "outputs": [],
   "source": []
  }
 ],
 "metadata": {
  "kernelspec": {
   "display_name": "Python 3 (ipykernel)",
   "language": "python",
   "name": "python3"
  },
  "language_info": {
   "codemirror_mode": {
    "name": "ipython",
    "version": 3
   },
   "file_extension": ".py",
   "mimetype": "text/x-python",
   "name": "python",
   "nbconvert_exporter": "python",
   "pygments_lexer": "ipython3",
   "version": "3.12.4"
  }
 },
 "nbformat": 4,
 "nbformat_minor": 5
}
